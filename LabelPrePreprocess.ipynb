{
  "cells": [
    {
      "cell_type": "markdown",
      "metadata": {
        "colab_type": "text",
        "id": "view-in-github"
      },
      "source": [
        "<a href=\"https://colab.research.google.com/github/Gio99c/BiSeNet/blob/main/main.ipynb\" target=\"_parent\"><img src=\"https://colab.research.google.com/assets/colab-badge.svg\" alt=\"Open In Colab\"/></a>"
      ]
    },
    {
      "cell_type": "code",
      "execution_count": 1,
      "metadata": {
        "colab": {
          "base_uri": "https://localhost:8080/"
        },
        "id": "HEPhX0iGhEcf",
        "outputId": "f467950f-d800-49cd-93da-7a43ee94d98b"
      },
      "outputs": [
        {
          "name": "stdout",
          "output_type": "stream",
          "text": [
            "Drive already mounted at /content/drive; to attempt to forcibly remount, call drive.mount(\"/content/drive\", force_remount=True).\n",
            "Cloning into 'BiSeNet'...\n",
            "remote: Enumerating objects: 46, done.\u001b[K\n",
            "remote: Counting objects: 100% (46/46), done.\u001b[K\n",
            "remote: Compressing objects: 100% (30/30), done.\u001b[K\n",
            "remote: Total 46 (delta 10), reused 36 (delta 7), pack-reused 0\u001b[K\n",
            "Unpacking objects: 100% (46/46), done.\n",
            "Collecting tensorboardX\n",
            "  Downloading tensorboardX-2.5-py2.py3-none-any.whl (125 kB)\n",
            "\u001b[K     |████████████████████████████████| 125 kB 5.3 MB/s \n",
            "\u001b[?25hRequirement already satisfied: numpy in /usr/local/lib/python3.7/dist-packages (from tensorboardX) (1.21.5)\n",
            "Requirement already satisfied: protobuf>=3.8.0 in /usr/local/lib/python3.7/dist-packages (from tensorboardX) (3.17.3)\n",
            "Requirement already satisfied: six in /usr/local/lib/python3.7/dist-packages (from tensorboardX) (1.15.0)\n",
            "Installing collected packages: tensorboardX\n",
            "Successfully installed tensorboardX-2.5\n"
          ]
        }
      ],
      "source": [
        "#import sys\n",
        "#from google.colab import drive\n",
        "#drive.mount('/content/drive')\n",
        "#!git clone https://github.com/Gio99c/BiSeNet.git\n",
        "#!pip install tensorboardX"
      ]
    },
    {
      "cell_type": "code",
      "execution_count": 3,
      "metadata": {
        "colab": {
          "base_uri": "https://localhost:8080/"
        },
        "id": "JXSslCD9Z1jg",
        "outputId": "18cdbdfd-435d-40cd-c436-a4695e48fd31"
      },
      "outputs": [
        {
          "name": "stdout",
          "output_type": "stream",
          "text": [
            "/content/BiSeNet\n",
            "Import terminato\n",
            "Downloading: \"https://download.pytorch.org/models/resnet18-f37072fd.pth\" to /root/.cache/torch/hub/checkpoints/resnet18-f37072fd.pth\n",
            "100% 44.7M/44.7M [00:00<00:00, 142MB/s]\n",
            "Downloading: \"https://download.pytorch.org/models/resnet101-63fe2227.pth\" to /root/.cache/torch/hub/checkpoints/resnet101-63fe2227.pth\n",
            "100% 171M/171M [00:01<00:00, 127MB/s]\n",
            "epoch 0, lr 0.025000:   0% 0/504 [00:00<?, ?it/s]Traceback (most recent call last):\n",
            "  File \"train.py\", line 273, in <module>\n",
            "    main(params)\n",
            "  File \"train.py\", line 254, in main\n",
            "    train(args, model, optimizer, dataloader_train, dataloader_val)\n",
            "  File \"train.py\", line 153, in train\n",
            "    output, output_sup1, output_sup2 = model(data) #final_output, output_x16down, output_(x32down*tail)\n",
            "  File \"/usr/local/lib/python3.7/dist-packages/torch/nn/modules/module.py\", line 1102, in _call_impl\n",
            "    return forward_call(*input, **kwargs)\n",
            "  File \"/usr/local/lib/python3.7/dist-packages/torch/nn/parallel/data_parallel.py\", line 166, in forward\n",
            "    return self.module(*inputs[0], **kwargs[0])\n",
            "  File \"/usr/local/lib/python3.7/dist-packages/torch/nn/modules/module.py\", line 1102, in _call_impl\n",
            "    return forward_call(*input, **kwargs)\n",
            "  File \"/content/BiSeNet/model/build_BiSeNet.py\", line 166, in forward\n",
            "    cx1, cx2, tail = self.context_path(input)\n",
            "  File \"/usr/local/lib/python3.7/dist-packages/torch/nn/modules/module.py\", line 1102, in _call_impl\n",
            "    return forward_call(*input, **kwargs)\n",
            "  File \"/content/BiSeNet/model/build_contextpath.py\", line 55, in forward\n",
            "    feature2 = self.layer2(feature1)\n",
            "  File \"/usr/local/lib/python3.7/dist-packages/torch/nn/modules/module.py\", line 1102, in _call_impl\n",
            "    return forward_call(*input, **kwargs)\n",
            "  File \"/usr/local/lib/python3.7/dist-packages/torch/nn/modules/container.py\", line 141, in forward\n",
            "    input = module(input)\n",
            "  File \"/usr/local/lib/python3.7/dist-packages/torch/nn/modules/module.py\", line 1102, in _call_impl\n",
            "    return forward_call(*input, **kwargs)\n",
            "  File \"/usr/local/lib/python3.7/dist-packages/torchvision/models/resnet.py\", line 136, in forward\n",
            "    identity = self.downsample(x)\n",
            "  File \"/usr/local/lib/python3.7/dist-packages/torch/nn/modules/module.py\", line 1102, in _call_impl\n",
            "    return forward_call(*input, **kwargs)\n",
            "  File \"/usr/local/lib/python3.7/dist-packages/torch/nn/modules/container.py\", line 141, in forward\n",
            "    input = module(input)\n",
            "  File \"/usr/local/lib/python3.7/dist-packages/torch/nn/modules/module.py\", line 1102, in _call_impl\n",
            "    return forward_call(*input, **kwargs)\n",
            "  File \"/usr/local/lib/python3.7/dist-packages/torch/nn/modules/batchnorm.py\", line 179, in forward\n",
            "    self.eps,\n",
            "  File \"/usr/local/lib/python3.7/dist-packages/torch/nn/functional.py\", line 2283, in batch_norm\n",
            "    input, weight, bias, running_mean, running_var, training, momentum, eps, torch.backends.cudnn.enabled\n",
            "RuntimeError: CUDA out of memory. Tried to allocate 256.00 MiB (GPU 0; 11.17 GiB total capacity; 10.44 GiB already allocated; 144.81 MiB free; 10.52 GiB reserved in total by PyTorch) If reserved memory is >> allocated memory try setting max_split_size_mb to avoid fragmentation.  See documentation for Memory Management and PYTORCH_CUDA_ALLOC_CONF\n",
            "epoch 0, lr 0.025000:   0% 0/504 [00:26<?, ?it/s]\n"
          ]
        }
      ],
      "source": [
        "#%cd /content/BiSeNet\n",
        "#!python train.py"
      ]
    },
    {
      "cell_type": "markdown",
      "metadata": {},
      "source": [
        "##### Extraction of info from the json file"
      ]
    },
    {
      "cell_type": "code",
      "execution_count": 2,
      "metadata": {
        "id": "lNuQ4fvhqqTX"
      },
      "outputs": [],
      "source": [
        "import json\n",
        " \n",
        "# Opening JSON file\n",
        "f = open('./data/Cityscapes/info.json')\n",
        " \n",
        "# returns JSON object as\n",
        "# a dictionary\n",
        "data = json.load(f)"
      ]
    },
    {
      "cell_type": "code",
      "execution_count": 11,
      "metadata": {},
      "outputs": [
        {
          "data": {
            "text/plain": [
              "[[0, 255],\n",
              " [1, 255],\n",
              " [2, 255],\n",
              " [3, 255],\n",
              " [4, 255],\n",
              " [5, 255],\n",
              " [6, 255],\n",
              " [7, 0],\n",
              " [8, 1],\n",
              " [9, 255],\n",
              " [10, 255],\n",
              " [11, 2],\n",
              " [12, 3],\n",
              " [13, 4],\n",
              " [14, 255],\n",
              " [15, 255],\n",
              " [16, 255],\n",
              " [17, 5],\n",
              " [18, 255],\n",
              " [19, 6],\n",
              " [20, 7],\n",
              " [21, 8],\n",
              " [22, 9],\n",
              " [23, 10],\n",
              " [24, 11],\n",
              " [25, 12],\n",
              " [26, 13],\n",
              " [27, 14],\n",
              " [28, 15],\n",
              " [29, 255],\n",
              " [30, 255],\n",
              " [31, 16],\n",
              " [32, 17],\n",
              " [33, 18],\n",
              " [-1, 255]]"
            ]
          },
          "execution_count": 11,
          "metadata": {},
          "output_type": "execute_result"
        }
      ],
      "source": [
        "label2train = data['label2train']\n",
        "label2train_dict = {el[0]:el[1] for el in label2train }\n",
        "label2train_dict"
      ]
    },
    {
      "cell_type": "markdown",
      "metadata": {},
      "source": [
        "##### Prepare the paths"
      ]
    },
    {
      "cell_type": "code",
      "execution_count": 13,
      "metadata": {},
      "outputs": [
        {
          "name": "stdout",
          "output_type": "stream",
          "text": [
            "[WindowsPath('data/Cityscapes/labels/aachen_000001_000019_gtFine_labelIds.png')\n",
            " WindowsPath('data/Cityscapes/labels/aachen_000002_000019_gtFine_labelIds.png')\n",
            " WindowsPath('data/Cityscapes/labels/aachen_000004_000019_gtFine_labelIds.png')\n",
            " WindowsPath('data/Cityscapes/labels/aachen_000009_000019_gtFine_labelIds.png')\n",
            " WindowsPath('data/Cityscapes/labels/aachen_000012_000019_gtFine_labelIds.png')]\n",
            "['strasbourg_000000_017593_leftImg8bit.png', 'zurich_000066_000019_leftImg8bit.png', 'hanover_000000_032681_leftImg8bit.png', 'ulm_000066_000019_leftImg8bit.png', 'dusseldorf_000006_000019_leftImg8bit.png']\n"
          ]
        }
      ],
      "source": [
        "#Get the labels images\n",
        "import numpy as np\n",
        "from pathlib import Path\n",
        "\n",
        "labels_paths = []\n",
        "labels_list = np.array(sorted(Path('data\\Cityscapes\\labels').glob(\"*\")))\n",
        "train_samples = [l.split(\"/\")[1] for l in np.loadtxt(f\"data/Cityscapes/train.txt\", dtype=\"unicode\")]\n",
        "\n",
        "for img in labels_list:\n",
        "    modified_label = str(img).split(\"\\\\\")[-1].replace(\"_gtFine_labelIds.png\", \"_leftImg8bit.png\") #the replace operation is needed beacuse labels file have different names wrt the images    \n",
        "    if modified_label in train_samples:\n",
        "        labels_paths.append(str(img))"
      ]
    },
    {
      "cell_type": "code",
      "execution_count": 39,
      "metadata": {},
      "outputs": [],
      "source": [
        "def map(image, label2train):\n",
        "    \"\"\"\n",
        "    image: matrix to map\n",
        "    label2train: dictionary indicating the mapping\n",
        "    \"\"\"\n",
        "    new_image = image.copy()\n",
        "    for i in range(new_image.shape[0]):\n",
        "        for j in range(new_image.shape[1]):\n",
        "            new_image[i,j] = label2train_dict[new_image[i][j]]\n",
        "    return new_image\n",
        "   "
      ]
    },
    {
      "cell_type": "markdown",
      "metadata": {},
      "source": [
        "#### Map function and test"
      ]
    },
    {
      "cell_type": "code",
      "execution_count": 42,
      "metadata": {},
      "outputs": [
        {
          "data": {
            "text/plain": [
              "array([[  2,   0,   1, 255, 255],\n",
              "       [255, 255, 255, 255,   2],\n",
              "       [255, 255,  11,   6,   5],\n",
              "       [  6, 255,  14,  15,   4],\n",
              "       [255,   9,   9, 255,  16]])"
            ]
          },
          "execution_count": 42,
          "metadata": {},
          "output_type": "execute_result"
        }
      ],
      "source": [
        "#Map test\n",
        "np.random.seed(1)\n",
        "img = np.random.randint(-1,34, size=(5,5))\n",
        "new_image = map(img, label2train_dict)\n",
        "new_image"
      ]
    },
    {
      "cell_type": "code",
      "execution_count": 48,
      "metadata": {},
      "outputs": [],
      "source": [
        "from PIL import Image\n",
        "img = Image.open(labels_paths[0])\n",
        "new_img = map(np.array(img), label2train_dict)"
      ]
    },
    {
      "cell_type": "code",
      "execution_count": 59,
      "metadata": {},
      "outputs": [
        {
          "data": {
            "image/png": "[encoded data removed]",
            "text/plain": [
              "<PIL.Image.Image image mode=L size=2048x1024>"
            ]
          },
          "execution_count": 59,
          "metadata": {},
          "output_type": "execute_result"
        }
      ],
      "source": [
        "import torchvision\n",
        "toPil = torchvision.transforms.ToPILImage(mode=None)\n",
        "l = toPil(new_img)\n",
        "l"
      ]
    },
    {
      "cell_type": "code",
      "execution_count": 60,
      "metadata": {},
      "outputs": [
        {
          "data": {
            "image/png": "[encoded data removed]",
            "text/plain": [
              "<PIL.PngImagePlugin.PngImageFile image mode=L size=2048x1024>"
            ]
          },
          "execution_count": 60,
          "metadata": {},
          "output_type": "execute_result"
        }
      ],
      "source": [
        "img"
      ]
    },
    {
      "cell_type": "markdown",
      "metadata": {},
      "source": [
        "#### Map the labels"
      ]
    },
    {
      "cell_type": "code",
      "execution_count": 61,
      "metadata": {},
      "outputs": [
        {
          "data": {
            "text/plain": [
              "500"
            ]
          },
          "execution_count": 61,
          "metadata": {},
          "output_type": "execute_result"
        }
      ],
      "source": [
        "converted_labels = []\n",
        "for img_path in labels_paths:\n",
        "    img = Image.open(img_path)\n",
        "    new_img = map(np.array(img), label2train_dict)\n",
        "    converted_labels.append(new_img)\n",
        "\n",
        "len(converted_labels)"
      ]
    },
    {
      "cell_type": "markdown",
      "metadata": {},
      "source": [
        "Save the modified labels in a folder"
      ]
    },
    {
      "cell_type": "code",
      "execution_count": 103,
      "metadata": {},
      "outputs": [],
      "source": [
        "for i, conv_label in enumerate(converted_labels):\n",
        "    l_path = labels_paths[i].replace(\"labels\", \"modified_labels\")\n",
        "    im = Image.fromarray(conv_label)\n",
        "    l_path = Path(l_path)\n",
        "    im.save(l_path)\n",
        "    \n"
      ]
    },
    {
      "cell_type": "markdown",
      "metadata": {},
      "source": []
    }
  ],
  "metadata": {
    "accelerator": "TPU",
    "colab": {
      "authorship_tag": "ABX9TyOMxExTMTjjl7aEHm8a8Zlc",
      "collapsed_sections": [],
      "include_colab_link": true,
      "mount_file_id": "1uRksP1hABM1CwpeLSZntCkHqw3DvBg9q",
      "name": "main.ipynb",
      "provenance": []
    },
    "kernelspec": {
      "display_name": "Python 3",
      "name": "python3"
    },
    "language_info": {
      "codemirror_mode": {
        "name": "ipython",
        "version": 3
      },
      "file_extension": ".py",
      "mimetype": "text/x-python",
      "name": "python",
      "nbconvert_exporter": "python",
      "pygments_lexer": "ipython3",
      "version": "3.8.10"
    }
  },
  "nbformat": 4,
  "nbformat_minor": 0
}
